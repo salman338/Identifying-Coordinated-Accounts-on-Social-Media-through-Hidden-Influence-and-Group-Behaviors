{
 "cells": [
  {
   "cell_type": "code",
   "execution_count": 2,
   "metadata": {
    "colab": {
     "base_uri": "https://localhost:8080/"
    },
    "executionInfo": {
     "elapsed": 35675,
     "status": "ok",
     "timestamp": 1634591682866,
     "user": {
      "displayName": "Esraa Ahmed Radian",
      "photoUrl": "https://lh3.googleusercontent.com/a-/AOh14GjXznPbAWhoz_KmIMg6Id0olzvkBmecygyIawpQRg8=s64",
      "userId": "10295681514239756812"
     },
     "user_tz": -120
    },
    "id": "xhUykJhRM5d5",
    "outputId": "611f2dfe-4e80-43c9-d44f-5fded307e92a"
   },
   "outputs": [
    {
     "name": "stdout",
     "output_type": "stream",
     "text": [
      "Mounted at /content/drive\n"
     ]
    }
   ],
   "source": [
    "from google.colab import drive\n",
    "drive.mount('/content/drive')"
   ]
  },
  {
   "cell_type": "code",
   "execution_count": 3,
   "metadata": {
    "executionInfo": {
     "elapsed": 1255,
     "status": "ok",
     "timestamp": 1634591832792,
     "user": {
      "displayName": "Esraa Ahmed Radian",
      "photoUrl": "https://lh3.googleusercontent.com/a-/AOh14GjXznPbAWhoz_KmIMg6Id0olzvkBmecygyIawpQRg8=s64",
      "userId": "10295681514239756812"
     },
     "user_tz": -120
    },
    "id": "DyJTpH7GLkDL"
   },
   "outputs": [],
   "source": [
    "from sklearn.cluster import KMeans\n",
    "from sklearn.mixture import GaussianMixture\n",
    "import numpy as np\n",
    "np.random.seed(0)"
   ]
  },
  {
   "cell_type": "code",
   "execution_count": 4,
   "metadata": {
    "executionInfo": {
     "elapsed": 9484,
     "status": "ok",
     "timestamp": 1634591843801,
     "user": {
      "displayName": "Esraa Ahmed Radian",
      "photoUrl": "https://lh3.googleusercontent.com/a-/AOh14GjXznPbAWhoz_KmIMg6Id0olzvkBmecygyIawpQRg8=s64",
      "userId": "10295681514239756812"
     },
     "user_tz": -120
    },
    "id": "a5MaTnxjLkDP"
   },
   "outputs": [],
   "source": [
    "# {/DM_Project/code/run_cmd/}\n",
    "ddir = 'path_to_u_emb.py\" \n",
    "u_emb = np.loadtxt(ddir + 'u_emb.npy')"
   ]
  },
  {
   "cell_type": "code",
   "execution_count": 5,
   "metadata": {
    "colab": {
     "base_uri": "https://localhost:8080/"
    },
    "executionInfo": {
     "elapsed": 294,
     "status": "ok",
     "timestamp": 1634591871057,
     "user": {
      "displayName": "Esraa Ahmed Radian",
      "photoUrl": "https://lh3.googleusercontent.com/a-/AOh14GjXznPbAWhoz_KmIMg6Id0olzvkBmecygyIawpQRg8=s64",
      "userId": "10295681514239756812"
     },
     "user_tz": -120
    },
    "id": "4ixCYe1QLkDQ",
    "outputId": "da75089c-ce03-44ae-d42c-a9e9e651e6ea"
   },
   "outputs": [
    {
     "data": {
      "text/plain": [
       "(119298, 64)"
      ]
     },
     "execution_count": 5,
     "metadata": {},
     "output_type": "execute_result"
    }
   ],
   "source": [
    "u_emb.shape"
   ]
  },
  {
   "cell_type": "code",
   "execution_count": 6,
   "metadata": {
    "colab": {
     "base_uri": "https://localhost:8080/"
    },
    "executionInfo": {
     "elapsed": 266621,
     "status": "ok",
     "timestamp": 1634592230085,
     "user": {
      "displayName": "Esraa Ahmed Radian",
      "photoUrl": "https://lh3.googleusercontent.com/a-/AOh14GjXznPbAWhoz_KmIMg6Id0olzvkBmecygyIawpQRg8=s64",
      "userId": "10295681514239756812"
     },
     "user_tz": -120
    },
    "id": "gjrxinOPLkDQ",
    "outputId": "f59319f3-aab0-4739-fd97-ee157f29848d"
   },
   "outputs": [
    {
     "name": "stdout",
     "output_type": "stream",
     "text": [
      "(array([0, 1, 2]), array([  2785,   2713, 113800]))\n"
     ]
    }
   ],
   "source": [
    "# number of components/clusters (n_components)\n",
    "km = GaussianMixture(n_components=3, init_params='kmeans', covariance_type='tied', n_init=50)\n",
    "kmp = km.fit_predict(u_emb)\n",
    "print(np.unique(kmp, return_counts=True))"
   ]
  },
  {
   "cell_type": "code",
   "execution_count": 7,
   "metadata": {
    "colab": {
     "base_uri": "https://localhost:8080/"
    },
    "executionInfo": {
     "elapsed": 580,
     "status": "ok",
     "timestamp": 1634592236003,
     "user": {
      "displayName": "Esraa Ahmed Radian",
      "photoUrl": "https://lh3.googleusercontent.com/a-/AOh14GjXznPbAWhoz_KmIMg6Id0olzvkBmecygyIawpQRg8=s64",
      "userId": "10295681514239756812"
     },
     "user_tz": -120
    },
    "id": "n234r0pWLkDR",
    "outputId": "2a15f697-6a6e-4991-8d1a-b2788e76d3bc"
   },
   "outputs": [
    {
     "name": "stdout",
     "output_type": "stream",
     "text": [
      "2785\n",
      "2713\n",
      "113800\n"
     ]
    }
   ],
   "source": [
    "groups = [np.where(kmp==0)[0], np.where(kmp==1)[0], np.where(kmp==2)[0]]\n",
    "for g in groups:\n",
    "    print(len(g))"
   ]
  },
  {
   "cell_type": "code",
   "execution_count": 10,
   "metadata": {
    "colab": {
     "base_uri": "https://localhost:8080/",
     "height": 283
    },
    "executionInfo": {
     "elapsed": 621,
     "status": "error",
     "timestamp": 1634592328478,
     "user": {
      "displayName": "Esraa Ahmed Radian",
      "photoUrl": "https://lh3.googleusercontent.com/a-/AOh14GjXznPbAWhoz_KmIMg6Id0olzvkBmecygyIawpQRg8=s64",
      "userId": "10295681514239756812"
     },
     "user_tz": -120
    },
    "id": "l86f9amjLkDR",
    "outputId": "aff2ee53-946a-4811-9e5d-61c44a323771"
   },
   "outputs": [
    {
     "ename": "NameError",
     "evalue": "ignored",
     "output_type": "error",
     "traceback": [
      "\u001b[0;31m---------------------------------------------------------------------------\u001b[0m",
      "\u001b[0;31mNameError\u001b[0m                                 Traceback (most recent call last)",
      "\u001b[0;32m<ipython-input-10-805109cafef8>\u001b[0m in \u001b[0;36m<module>\u001b[0;34m()\u001b[0m\n\u001b[1;32m      2\u001b[0m \u001b[0;31m# idx2uid: to remap to Twitter uids, as needed.\u001b[0m\u001b[0;34m\u001b[0m\u001b[0;34m\u001b[0m\u001b[0;34m\u001b[0m\u001b[0m\n\u001b[1;32m      3\u001b[0m \u001b[0;32mfor\u001b[0m \u001b[0mgrp\u001b[0m \u001b[0;32min\u001b[0m \u001b[0mgroups\u001b[0m\u001b[0;34m:\u001b[0m\u001b[0;34m\u001b[0m\u001b[0;34m\u001b[0m\u001b[0m\n\u001b[0;32m----> 4\u001b[0;31m     \u001b[0muids\u001b[0m \u001b[0;34m=\u001b[0m \u001b[0;34m[\u001b[0m\u001b[0midx2uid\u001b[0m\u001b[0;34m[\u001b[0m\u001b[0mi\u001b[0m\u001b[0;34m]\u001b[0m \u001b[0;32mfor\u001b[0m \u001b[0mi\u001b[0m \u001b[0;32min\u001b[0m \u001b[0mgrp\u001b[0m\u001b[0;34m]\u001b[0m\u001b[0;34m\u001b[0m\u001b[0;34m\u001b[0m\u001b[0m\n\u001b[0m",
      "\u001b[0;32m<ipython-input-10-805109cafef8>\u001b[0m in \u001b[0;36m<listcomp>\u001b[0;34m(.0)\u001b[0m\n\u001b[1;32m      2\u001b[0m \u001b[0;31m# idx2uid: to remap to Twitter uids, as needed.\u001b[0m\u001b[0;34m\u001b[0m\u001b[0;34m\u001b[0m\u001b[0;34m\u001b[0m\u001b[0m\n\u001b[1;32m      3\u001b[0m \u001b[0;32mfor\u001b[0m \u001b[0mgrp\u001b[0m \u001b[0;32min\u001b[0m \u001b[0mgroups\u001b[0m\u001b[0;34m:\u001b[0m\u001b[0;34m\u001b[0m\u001b[0;34m\u001b[0m\u001b[0m\n\u001b[0;32m----> 4\u001b[0;31m     \u001b[0muids\u001b[0m \u001b[0;34m=\u001b[0m \u001b[0;34m[\u001b[0m\u001b[0midx2uid\u001b[0m\u001b[0;34m[\u001b[0m\u001b[0mi\u001b[0m\u001b[0;34m]\u001b[0m \u001b[0;32mfor\u001b[0m \u001b[0mi\u001b[0m \u001b[0;32min\u001b[0m \u001b[0mgrp\u001b[0m\u001b[0;34m]\u001b[0m\u001b[0;34m\u001b[0m\u001b[0;34m\u001b[0m\u001b[0m\n\u001b[0m",
      "\u001b[0;31mNameError\u001b[0m: name 'idx2uid' is not defined"
     ]
    }
   ],
   "source": [
    "# output is the indexed account/user ids provided as input.\n",
    "# idx2uid: to remap to Twitter uids, as needed.\n",
    "for grp in groups:\n",
    "    uids = [idx2uid[i] for i in grp]"
   ]
  },
  {
   "cell_type": "code",
   "execution_count": 9,
   "metadata": {
    "executionInfo": {
     "elapsed": 331,
     "status": "ok",
     "timestamp": 1634592323017,
     "user": {
      "displayName": "Esraa Ahmed Radian",
      "photoUrl": "https://lh3.googleusercontent.com/a-/AOh14GjXznPbAWhoz_KmIMg6Id0olzvkBmecygyIawpQRg8=s64",
      "userId": "10295681514239756812"
     },
     "user_tz": -120
    },
    "id": "3xka_QeOLkDS"
   },
   "outputs": [],
   "source": [
    "import matplotlib.pyplot as plt\n",
    "import numpy as np\n",
    "\n",
    "SMALL_SIZE = 13\n",
    "MEDIUM_SIZE = 13\n",
    "BIGGER_SIZE = 13\n",
    "\n",
    "plt.rc('font', size=SMALL_SIZE)          # controls default text sizes\n",
    "plt.rc('axes', titlesize=SMALL_SIZE)     # fontsize of the axes title\n",
    "plt.rc('axes', labelsize=MEDIUM_SIZE)    # fontsize of the x and y labels\n",
    "plt.rc('xtick', labelsize=SMALL_SIZE)    # fontsize of the tick labels\n",
    "plt.rc('ytick', labelsize=SMALL_SIZE)    # fontsize of the tick labels\n",
    "plt.rc('legend', fontsize=SMALL_SIZE)    # legend fontsize\n",
    "plt.rc('figure', titlesize=BIGGER_SIZE)  # fontsize of the figure title\n",
    "\n",
    "import pandas as pd\n",
    "import numpy as np\n",
    "from sklearn.cluster import KMeans\n",
    "from sklearn.mixture import GaussianMixture\n",
    "import sys\n",
    "sys.path.append('../')\n",
    "from sklearn import metrics\n",
    "from scipy.spatial.distance import cdist\n",
    "import scipy\n",
    "import matplotlib.pyplot as plt\n",
    "from sklearn.ensemble import AdaBoostClassifier\n",
    "# Set random seed\n",
    "np.random.seed(0)\n",
    "from sklearn.model_selection import KFold\n",
    "from sklearn.model_selection import StratifiedKFold\n",
    "import sklearn.metrics\n",
    "from sklearn import preprocessing\n",
    "from sklearn.metrics import confusion_matrix, classification_report\n",
    "import pickle as pkl\n",
    "\n",
    "from sklearn.pipeline import make_pipeline\n",
    "from sklearn.preprocessing import StandardScaler, MinMaxScaler\n",
    "from sklearn.linear_model import LogisticRegression\n",
    "from sklearn.neural_network import MLPClassifier\n",
    "from sklearn.svm import SVC\n",
    "from sklearn.cluster import KMeans"
   ]
  }
 ],
 "metadata": {
  "colab": {
   "name": "clustering.ipynb",
   "provenance": []
  },
  "kernelspec": {
   "display_name": "Python 3",
   "language": "python",
   "name": "python3"
  },
  "language_info": {
   "codemirror_mode": {
    "name": "ipython",
    "version": 3
   },
   "file_extension": ".py",
   "mimetype": "text/x-python",
   "name": "python",
   "nbconvert_exporter": "python",
   "pygments_lexer": "ipython3",
   "version": "3.8.5"
  }
 },
 "nbformat": 4,
 "nbformat_minor": 1
}
